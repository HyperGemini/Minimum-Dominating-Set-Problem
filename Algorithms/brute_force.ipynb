{
 "cells": [
  {
   "cell_type": "code",
   "id": "initial_id",
   "metadata": {
    "collapsed": true,
    "ExecuteTime": {
     "end_time": "2025-02-17T18:22:06.210855Z",
     "start_time": "2025-02-17T18:22:06.204022Z"
    }
   },
   "source": "import itertools",
   "outputs": [],
   "execution_count": 21
  },
  {
   "metadata": {
    "ExecuteTime": {
     "end_time": "2025-02-17T18:22:06.726646Z",
     "start_time": "2025-02-17T18:22:06.716202Z"
    }
   },
   "cell_type": "code",
   "source": [
    "def is_dominating_set(graph, nodes_subset):\n",
    "    for node in graph:\n",
    "        if node not in nodes_subset:\n",
    "            is_adjacent = False\n",
    "            for neighbor in graph[node]:\n",
    "                if neighbor in nodes_subset:\n",
    "                    is_adjacent = True\n",
    "                    break\n",
    "            if not is_adjacent:\n",
    "                return False\n",
    "    return True"
   ],
   "id": "1e4bb5fa0530fdca",
   "outputs": [],
   "execution_count": 22
  },
  {
   "metadata": {
    "ExecuteTime": {
     "end_time": "2025-02-17T18:22:07.424175Z",
     "start_time": "2025-02-17T18:22:07.408123Z"
    }
   },
   "cell_type": "code",
   "source": [
    "def minimum_dominating_set(graph):\n",
    "    nodes = list(graph.keys())\n",
    "    n = len(nodes)\n",
    "\n",
    "    if n == 0:\n",
    "        return None, None\n",
    "\n",
    "    min_dominating_set = None\n",
    "    min_dominating_set_size = float('inf')\n",
    "\n",
    "    for set_size in range(1, n + 1):\n",
    "        for nodes_subset in itertools.combinations(nodes, set_size):\n",
    "            subgraph = list(nodes_subset)\n",
    "            if is_dominating_set(graph, subgraph):\n",
    "                if set_size < min_dominating_set_size:\n",
    "                    min_dominating_set = subgraph\n",
    "                    min_dominating_set_size = set_size\n",
    "                    return min_dominating_set, min_dominating_set_size\n",
    "    return min_dominating_set, min_dominating_set_size"
   ],
   "id": "eca0fd0a165b5e5a",
   "outputs": [],
   "execution_count": 23
  },
  {
   "metadata": {
    "ExecuteTime": {
     "end_time": "2025-02-17T18:22:08.489318Z",
     "start_time": "2025-02-17T18:22:08.474168Z"
    }
   },
   "cell_type": "code",
   "source": [
    "if __name__ == '__main__':\n",
    "    g = {\n",
    "        1: [2, 5],\n",
    "        2: [1, 3, 5],\n",
    "        3: [2, 4, 6],\n",
    "        4: [3],\n",
    "        5: [1, 2, 6],\n",
    "        6: [3, 5]\n",
    "    }\n",
    "\n",
    "    x, y = minimum_dominating_set(g)\n",
    "\n",
    "    if x:\n",
    "        print(f\"Minimum dominating set: {x}\")\n",
    "        print(f\"Size of minimum dominating set: {y}\")\n",
    "    else:\n",
    "        print(f\"Graph has no nodes\")"
   ],
   "id": "ad7a0b065e36546d",
   "outputs": [
    {
     "name": "stdout",
     "output_type": "stream",
     "text": [
      "Minimum dominating set: [1, 3]\n",
      "Size of minimum dominating set: 2\n"
     ]
    }
   ],
   "execution_count": 24
  },
  {
   "metadata": {},
   "cell_type": "code",
   "outputs": [],
   "execution_count": null,
   "source": "",
   "id": "5ad0ba92b7c6bab1"
  }
 ],
 "metadata": {
  "kernelspec": {
   "display_name": "Python 3",
   "language": "python",
   "name": "python3"
  },
  "language_info": {
   "codemirror_mode": {
    "name": "ipython",
    "version": 2
   },
   "file_extension": ".py",
   "mimetype": "text/x-python",
   "name": "python",
   "nbconvert_exporter": "python",
   "pygments_lexer": "ipython2",
   "version": "2.7.6"
  }
 },
 "nbformat": 4,
 "nbformat_minor": 5
}
