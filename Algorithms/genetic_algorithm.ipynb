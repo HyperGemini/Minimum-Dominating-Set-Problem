{
 "cells": [
  {
   "cell_type": "code",
   "id": "initial_id",
   "metadata": {
    "collapsed": true,
    "ExecuteTime": {
     "end_time": "2025-02-23T00:10:54.446411Z",
     "start_time": "2025-02-23T00:10:54.439588Z"
    }
   },
   "source": [
    "import random\n",
    "import copy"
   ],
   "outputs": [],
   "execution_count": 47
  },
  {
   "metadata": {
    "ExecuteTime": {
     "end_time": "2025-02-23T00:10:55.336976Z",
     "start_time": "2025-02-23T00:10:55.314708Z"
    }
   },
   "cell_type": "code",
   "source": [
    "class Individual:\n",
    "    def __init__(self, genetic_code, graph, nodes=None, fitness=None):\n",
    "        self.genetic_code = genetic_code\n",
    "        self.graph = graph\n",
    "        if nodes is None:\n",
    "            self.nodes = sorted(graph.keys())\n",
    "        else:\n",
    "            self.nodes = nodes\n",
    "        self.num_nodes = len(self.nodes)\n",
    "        self.num_dominated = None\n",
    "        self.total_selected = None\n",
    "\n",
    "        if fitness is None:\n",
    "            self.fitness = self.calculate_fitness()\n",
    "        else:\n",
    "            self.fitness = fitness\n",
    "\n",
    "    def __str__(self):\n",
    "        return f\"Gen: {''.join(map(str, self.genetic_code))} | Fitness: {self.fitness} | Selected: {sum(self.genetic_code)}\"\n",
    "\n",
    "    def __repr__(self):\n",
    "        return self.__str__()\n",
    "\n",
    "    def calculate_fitness(self):\n",
    "        dominated = set()\n",
    "        for idx, gene in enumerate(self.genetic_code):\n",
    "            if gene == 1:\n",
    "                node = self.nodes[idx]\n",
    "                dominated.add(node)\n",
    "                for neighbor in self.graph[node]:\n",
    "                    dominated.add(neighbor)\n",
    "        num_dominated = len(dominated)\n",
    "        total_selected = sum(self.genetic_code)\n",
    "\n",
    "        if num_dominated == self.num_nodes:\n",
    "            fitness = self.num_nodes + (self.num_nodes - total_selected)\n",
    "        else:\n",
    "            fitness = num_dominated\n",
    "\n",
    "        self.total_selected = total_selected\n",
    "        self.num_dominated = num_dominated\n",
    "\n",
    "        return fitness"
   ],
   "id": "a383e18c52158a40",
   "outputs": [],
   "execution_count": 48
  },
  {
   "metadata": {
    "ExecuteTime": {
     "end_time": "2025-02-23T00:10:56.722876Z",
     "start_time": "2025-02-23T00:10:56.704078Z"
    }
   },
   "cell_type": "code",
   "source": [
    "def initial_population(graph, population_size):\n",
    "    population = []\n",
    "    nodes = sorted(graph.keys())\n",
    "    n = len(nodes)\n",
    "    for _ in range(population_size):\n",
    "        genetic_code = [random.randint(0, 1) for _ in range(n)]\n",
    "        individual = Individual(genetic_code, graph, nodes)\n",
    "        population.append(individual)\n",
    "    return population"
   ],
   "id": "10befac2745ed716",
   "outputs": [],
   "execution_count": 49
  },
  {
   "metadata": {
    "ExecuteTime": {
     "end_time": "2025-02-23T00:10:57.704460Z",
     "start_time": "2025-02-23T00:10:57.689087Z"
    }
   },
   "cell_type": "code",
   "source": [
    "def roulette_selection(population):\n",
    "    total_fitness = sum(individual.fitness for individual in population)\n",
    "    if total_fitness == 0:\n",
    "        return random.choice(population)\n",
    "    winner = random.choices(population, weights=[ind.fitness for ind in population], k=1)[0]\n",
    "    return winner"
   ],
   "id": "55e5b9a3c6adbb67",
   "outputs": [],
   "execution_count": 50
  },
  {
   "metadata": {
    "ExecuteTime": {
     "end_time": "2025-02-23T00:10:58.959594Z",
     "start_time": "2025-02-23T00:10:58.945675Z"
    }
   },
   "cell_type": "code",
   "source": [
    "def tournament_selection(population, tournament_size):\n",
    "    selected = random.sample(population, tournament_size)\n",
    "    winner = max(selected, key=lambda x: (x.fitness, -x.total_selected))\n",
    "    return winner"
   ],
   "id": "a87ddb504b483e99",
   "outputs": [],
   "execution_count": 51
  },
  {
   "metadata": {
    "ExecuteTime": {
     "end_time": "2025-02-23T00:10:59.761989Z",
     "start_time": "2025-02-23T00:10:59.743530Z"
    }
   },
   "cell_type": "code",
   "source": [
    "def crossover(parent1, parent2):\n",
    "    n = len(parent1.genetic_code)\n",
    "    if n < 2:\n",
    "        return parent1, parent2\n",
    "\n",
    "    break_point = random.randint(1, n - 1)\n",
    "    child1_code = parent1.genetic_code[:break_point] + parent2.genetic_code[break_point:]\n",
    "    child2_code = parent2.genetic_code[:break_point] + parent1.genetic_code[break_point:]\n",
    "\n",
    "    child1 = Individual(child1_code, parent1.graph, parent1.nodes)\n",
    "    child2 = Individual(child2_code, parent2.graph, parent2.nodes)\n",
    "\n",
    "    return child1, child2"
   ],
   "id": "f14fcb88d3b7d9b9",
   "outputs": [],
   "execution_count": 52
  },
  {
   "metadata": {
    "ExecuteTime": {
     "end_time": "2025-02-23T00:11:00.670935Z",
     "start_time": "2025-02-23T00:11:00.656540Z"
    }
   },
   "cell_type": "code",
   "source": [
    "def mutate(individual, mutation_rate):\n",
    "    if random.random() < mutation_rate:\n",
    "        index = random.randrange(len(individual.genetic_code))\n",
    "        individual.genetic_code[index] = 1 - individual.genetic_code[index]\n",
    "        individual.fitness = individual.calculate_fitness()\n",
    "    return individual"
   ],
   "id": "697c4f1636db71a1",
   "outputs": [],
   "execution_count": 53
  },
  {
   "metadata": {
    "ExecuteTime": {
     "end_time": "2025-02-23T00:11:01.642475Z",
     "start_time": "2025-02-23T00:11:01.606597Z"
    }
   },
   "cell_type": "code",
   "source": [
    "def ga(graph, population_size, mutation_rate, tournament_size, max_iterations, selection_method, elitism_size):\n",
    "    if selection_method not in ['roulette_selection', 'tournament_selection']:\n",
    "        raise ValueError(\"Invalid selection method\")\n",
    "\n",
    "    population = initial_population(graph, population_size)\n",
    "\n",
    "    for generation in range(1, max_iterations + 1):\n",
    "        population.sort(key=lambda x: (-x.fitness, x.total_selected))\n",
    "        best_individual = population[0]\n",
    "        print(f\"Generation {generation}: {best_individual}\")\n",
    "\n",
    "        new_population = []\n",
    "        elites = [copy.deepcopy(individual) for individual in population[:elitism_size]]\n",
    "        new_population.extend(elites)\n",
    "\n",
    "        while len(new_population) < population_size:\n",
    "            if selection_method == 'roulette_selection':\n",
    "                parent1 = roulette_selection(population)\n",
    "                parent2 = roulette_selection(population)\n",
    "            else:\n",
    "                parent1 = tournament_selection(population, tournament_size)\n",
    "                parent2 = tournament_selection(population, tournament_size)\n",
    "\n",
    "            child1, child2 = crossover(parent1, parent2)\n",
    "            child1 = mutate(child1, mutation_rate)\n",
    "            child2 = mutate(child2, mutation_rate)\n",
    "\n",
    "            children = [child1, child2]\n",
    "            children.sort(key=lambda x: (-x.fitness, x.total_selected))\n",
    "\n",
    "            for child in children:\n",
    "                if len(new_population) < population_size:\n",
    "                    new_population.append(child)\n",
    "                else:\n",
    "                    break\n",
    "        population = new_population\n",
    "\n",
    "    dominating_individuals = [individual for individual in population if individual.num_dominated == individual.num_nodes]\n",
    "\n",
    "    if dominating_individuals:\n",
    "        best = max(dominating_individuals, key=lambda x: (x.fitness, -x.total_selected))\n",
    "    else:\n",
    "        best = max(population, key=lambda x: (x.fitness, -x.total_selected))\n",
    "\n",
    "    print(f\"Best individual after {max_iterations} iterations: {best}\")\n",
    "\n",
    "    return best.genetic_code, best.fitness"
   ],
   "id": "928ffcb3d66ec8f0",
   "outputs": [],
   "execution_count": 54
  },
  {
   "metadata": {
    "ExecuteTime": {
     "end_time": "2025-02-23T00:11:02.532849Z",
     "start_time": "2025-02-23T00:11:02.418128Z"
    }
   },
   "cell_type": "code",
   "source": [
    "if __name__ == '__main__':\n",
    "    g = {\n",
    "        1: [2, 5],\n",
    "        2: [1, 3, 5],\n",
    "        3: [2, 4, 6],\n",
    "        4: [3],\n",
    "        5: [1, 2, 6],\n",
    "        6: [3, 5]\n",
    "    }\n",
    "\n",
    "    best_code, best_fitness = ga(\n",
    "        graph=g,\n",
    "        population_size=50,\n",
    "        mutation_rate=0.1,\n",
    "        tournament_size=3,\n",
    "        max_iterations=100,\n",
    "        selection_method='tournament_selection',\n",
    "        elitism_size=2\n",
    "    )\n",
    "\n",
    "    nodes = sorted(g.keys())\n",
    "    print(\"Best genetic code (dominating set):\", best_code)\n",
    "\n",
    "    selected_vertices = [nodes[i] for i, bit in enumerate(best_code) if bit == 1]\n",
    "    print(\"Selected vertices:\", selected_vertices)\n",
    "    print(\"Fitness:\", best_fitness)"
   ],
   "id": "f0eacc1165ebcf8e",
   "outputs": [
    {
     "name": "stdout",
     "output_type": "stream",
     "text": [
      "Generation 1: Gen: 000110 | Fitness: 10 | Selected: 2\n",
      "Generation 2: Gen: 000110 | Fitness: 10 | Selected: 2\n",
      "Generation 3: Gen: 000110 | Fitness: 10 | Selected: 2\n",
      "Generation 4: Gen: 000110 | Fitness: 10 | Selected: 2\n",
      "Generation 5: Gen: 000110 | Fitness: 10 | Selected: 2\n",
      "Generation 6: Gen: 000110 | Fitness: 10 | Selected: 2\n",
      "Generation 7: Gen: 000110 | Fitness: 10 | Selected: 2\n",
      "Generation 8: Gen: 000110 | Fitness: 10 | Selected: 2\n",
      "Generation 9: Gen: 000110 | Fitness: 10 | Selected: 2\n",
      "Generation 10: Gen: 000110 | Fitness: 10 | Selected: 2\n",
      "Generation 11: Gen: 000110 | Fitness: 10 | Selected: 2\n",
      "Generation 12: Gen: 000110 | Fitness: 10 | Selected: 2\n",
      "Generation 13: Gen: 000110 | Fitness: 10 | Selected: 2\n",
      "Generation 14: Gen: 000110 | Fitness: 10 | Selected: 2\n",
      "Generation 15: Gen: 000110 | Fitness: 10 | Selected: 2\n",
      "Generation 16: Gen: 000110 | Fitness: 10 | Selected: 2\n",
      "Generation 17: Gen: 000110 | Fitness: 10 | Selected: 2\n",
      "Generation 18: Gen: 000110 | Fitness: 10 | Selected: 2\n",
      "Generation 19: Gen: 000110 | Fitness: 10 | Selected: 2\n",
      "Generation 20: Gen: 000110 | Fitness: 10 | Selected: 2\n",
      "Generation 21: Gen: 000110 | Fitness: 10 | Selected: 2\n",
      "Generation 22: Gen: 000110 | Fitness: 10 | Selected: 2\n",
      "Generation 23: Gen: 000110 | Fitness: 10 | Selected: 2\n",
      "Generation 24: Gen: 000110 | Fitness: 10 | Selected: 2\n",
      "Generation 25: Gen: 000110 | Fitness: 10 | Selected: 2\n",
      "Generation 26: Gen: 000110 | Fitness: 10 | Selected: 2\n",
      "Generation 27: Gen: 000110 | Fitness: 10 | Selected: 2\n",
      "Generation 28: Gen: 000110 | Fitness: 10 | Selected: 2\n",
      "Generation 29: Gen: 000110 | Fitness: 10 | Selected: 2\n",
      "Generation 30: Gen: 000110 | Fitness: 10 | Selected: 2\n",
      "Generation 31: Gen: 000110 | Fitness: 10 | Selected: 2\n",
      "Generation 32: Gen: 000110 | Fitness: 10 | Selected: 2\n",
      "Generation 33: Gen: 000110 | Fitness: 10 | Selected: 2\n",
      "Generation 34: Gen: 000110 | Fitness: 10 | Selected: 2\n",
      "Generation 35: Gen: 000110 | Fitness: 10 | Selected: 2\n",
      "Generation 36: Gen: 000110 | Fitness: 10 | Selected: 2\n",
      "Generation 37: Gen: 000110 | Fitness: 10 | Selected: 2\n",
      "Generation 38: Gen: 000110 | Fitness: 10 | Selected: 2\n",
      "Generation 39: Gen: 000110 | Fitness: 10 | Selected: 2\n",
      "Generation 40: Gen: 000110 | Fitness: 10 | Selected: 2\n",
      "Generation 41: Gen: 000110 | Fitness: 10 | Selected: 2\n",
      "Generation 42: Gen: 000110 | Fitness: 10 | Selected: 2\n",
      "Generation 43: Gen: 000110 | Fitness: 10 | Selected: 2\n",
      "Generation 44: Gen: 000110 | Fitness: 10 | Selected: 2\n",
      "Generation 45: Gen: 000110 | Fitness: 10 | Selected: 2\n",
      "Generation 46: Gen: 000110 | Fitness: 10 | Selected: 2\n",
      "Generation 47: Gen: 000110 | Fitness: 10 | Selected: 2\n",
      "Generation 48: Gen: 000110 | Fitness: 10 | Selected: 2\n",
      "Generation 49: Gen: 000110 | Fitness: 10 | Selected: 2\n",
      "Generation 50: Gen: 000110 | Fitness: 10 | Selected: 2\n",
      "Generation 51: Gen: 000110 | Fitness: 10 | Selected: 2\n",
      "Generation 52: Gen: 000110 | Fitness: 10 | Selected: 2\n",
      "Generation 53: Gen: 000110 | Fitness: 10 | Selected: 2\n",
      "Generation 54: Gen: 000110 | Fitness: 10 | Selected: 2\n",
      "Generation 55: Gen: 000110 | Fitness: 10 | Selected: 2\n",
      "Generation 56: Gen: 000110 | Fitness: 10 | Selected: 2\n",
      "Generation 57: Gen: 000110 | Fitness: 10 | Selected: 2\n",
      "Generation 58: Gen: 000110 | Fitness: 10 | Selected: 2\n",
      "Generation 59: Gen: 000110 | Fitness: 10 | Selected: 2\n",
      "Generation 60: Gen: 000110 | Fitness: 10 | Selected: 2\n",
      "Generation 61: Gen: 000110 | Fitness: 10 | Selected: 2\n",
      "Generation 62: Gen: 000110 | Fitness: 10 | Selected: 2\n",
      "Generation 63: Gen: 000110 | Fitness: 10 | Selected: 2\n",
      "Generation 64: Gen: 000110 | Fitness: 10 | Selected: 2\n",
      "Generation 65: Gen: 000110 | Fitness: 10 | Selected: 2\n",
      "Generation 66: Gen: 000110 | Fitness: 10 | Selected: 2\n",
      "Generation 67: Gen: 000110 | Fitness: 10 | Selected: 2\n",
      "Generation 68: Gen: 000110 | Fitness: 10 | Selected: 2\n",
      "Generation 69: Gen: 000110 | Fitness: 10 | Selected: 2\n",
      "Generation 70: Gen: 000110 | Fitness: 10 | Selected: 2\n",
      "Generation 71: Gen: 000110 | Fitness: 10 | Selected: 2\n",
      "Generation 72: Gen: 000110 | Fitness: 10 | Selected: 2\n",
      "Generation 73: Gen: 000110 | Fitness: 10 | Selected: 2\n",
      "Generation 74: Gen: 000110 | Fitness: 10 | Selected: 2\n",
      "Generation 75: Gen: 000110 | Fitness: 10 | Selected: 2\n",
      "Generation 76: Gen: 000110 | Fitness: 10 | Selected: 2\n",
      "Generation 77: Gen: 000110 | Fitness: 10 | Selected: 2\n",
      "Generation 78: Gen: 000110 | Fitness: 10 | Selected: 2\n",
      "Generation 79: Gen: 000110 | Fitness: 10 | Selected: 2\n",
      "Generation 80: Gen: 000110 | Fitness: 10 | Selected: 2\n",
      "Generation 81: Gen: 000110 | Fitness: 10 | Selected: 2\n",
      "Generation 82: Gen: 000110 | Fitness: 10 | Selected: 2\n",
      "Generation 83: Gen: 000110 | Fitness: 10 | Selected: 2\n",
      "Generation 84: Gen: 000110 | Fitness: 10 | Selected: 2\n",
      "Generation 85: Gen: 000110 | Fitness: 10 | Selected: 2\n",
      "Generation 86: Gen: 000110 | Fitness: 10 | Selected: 2\n",
      "Generation 87: Gen: 000110 | Fitness: 10 | Selected: 2\n",
      "Generation 88: Gen: 000110 | Fitness: 10 | Selected: 2\n",
      "Generation 89: Gen: 000110 | Fitness: 10 | Selected: 2\n",
      "Generation 90: Gen: 000110 | Fitness: 10 | Selected: 2\n",
      "Generation 91: Gen: 000110 | Fitness: 10 | Selected: 2\n",
      "Generation 92: Gen: 000110 | Fitness: 10 | Selected: 2\n",
      "Generation 93: Gen: 000110 | Fitness: 10 | Selected: 2\n",
      "Generation 94: Gen: 000110 | Fitness: 10 | Selected: 2\n",
      "Generation 95: Gen: 000110 | Fitness: 10 | Selected: 2\n",
      "Generation 96: Gen: 000110 | Fitness: 10 | Selected: 2\n",
      "Generation 97: Gen: 000110 | Fitness: 10 | Selected: 2\n",
      "Generation 98: Gen: 000110 | Fitness: 10 | Selected: 2\n",
      "Generation 99: Gen: 000110 | Fitness: 10 | Selected: 2\n",
      "Generation 100: Gen: 000110 | Fitness: 10 | Selected: 2\n",
      "Best individual after 100 iterations: Gen: 000110 | Fitness: 10 | Selected: 2\n",
      "Best genetic code (dominating set): [0, 0, 0, 1, 1, 0]\n",
      "Selected vertices: [4, 5]\n",
      "Fitness: 10\n"
     ]
    }
   ],
   "execution_count": 55
  },
  {
   "metadata": {
    "ExecuteTime": {
     "end_time": "2025-02-23T00:12:11.150393Z",
     "start_time": "2025-02-23T00:12:11.146009Z"
    }
   },
   "cell_type": "code",
   "source": "# NOTE: Uspeo sam da dobijem i [1, 3], ali oba su resenja ispravna i minimalna",
   "id": "e3fb315771163e04",
   "outputs": [],
   "execution_count": 56
  },
  {
   "metadata": {
    "ExecuteTime": {
     "end_time": "2025-02-23T00:13:05.757906Z",
     "start_time": "2025-02-23T00:13:05.754289Z"
    }
   },
   "cell_type": "code",
   "source": "",
   "id": "c915c7dcf4376286",
   "outputs": [],
   "execution_count": null
  },
  {
   "metadata": {
    "ExecuteTime": {
     "end_time": "2025-02-22T23:20:23.339900Z",
     "start_time": "2025-02-22T23:20:23.336290Z"
    }
   },
   "cell_type": "code",
   "source": "",
   "id": "e0b65e4bb5aa971c",
   "outputs": [],
   "execution_count": null
  },
  {
   "metadata": {},
   "cell_type": "code",
   "outputs": [],
   "execution_count": null,
   "source": "",
   "id": "9dd12b7c9c712d51"
  }
 ],
 "metadata": {
  "kernelspec": {
   "display_name": "Python 3",
   "language": "python",
   "name": "python3"
  },
  "language_info": {
   "codemirror_mode": {
    "name": "ipython",
    "version": 2
   },
   "file_extension": ".py",
   "mimetype": "text/x-python",
   "name": "python",
   "nbconvert_exporter": "python",
   "pygments_lexer": "ipython2",
   "version": "2.7.6"
  }
 },
 "nbformat": 4,
 "nbformat_minor": 5
}
