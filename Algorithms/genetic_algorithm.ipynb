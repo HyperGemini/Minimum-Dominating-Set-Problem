{
 "cells": [
  {
   "metadata": {
    "ExecuteTime": {
     "end_time": "2025-02-23T19:23:23.679083Z",
     "start_time": "2025-02-23T19:23:23.670620Z"
    }
   },
   "cell_type": "code",
   "source": [
    "import random\n",
    "import copy"
   ],
   "id": "cf30b5c5d7e49015",
   "outputs": [],
   "execution_count": 18
  },
  {
   "cell_type": "code",
   "id": "initial_id",
   "metadata": {
    "collapsed": true,
    "ExecuteTime": {
     "end_time": "2025-02-23T19:23:24.344946Z",
     "start_time": "2025-02-23T19:23:24.336460Z"
    }
   },
   "source": [
    "class Individual:\n",
    "    def __init__(self, genetic_code, graph, fitness=None):\n",
    "        self.genetic_code = genetic_code\n",
    "        self.graph = graph\n",
    "        self.nodes = list(self.graph.keys())\n",
    "        self.num_nodes = len(self.graph)\n",
    "        self.num_dominated = None\n",
    "        self.total_selected = None\n",
    "\n",
    "        if fitness is None:\n",
    "            self.fitness = self.calculate_fitness()\n",
    "        else:\n",
    "            self.fitness = fitness\n",
    "\n",
    "    def __str__(self):\n",
    "        return f\"Gen: {''.join(map(str, self.genetic_code))} | Fitness: {self.fitness} | Selected: {sum(self.genetic_code)}\"\n",
    "\n",
    "    def __repr__(self):\n",
    "        return self.__str__()\n",
    "\n",
    "    def calculate_fitness(self):\n",
    "        dominated = set()\n",
    "\n",
    "        for i, gene in enumerate(self.genetic_code):\n",
    "            if gene == 1:\n",
    "                node = self.nodes[i]\n",
    "                dominated.add(node)\n",
    "                for neighbor in self.graph[node]:\n",
    "                    dominated.add(neighbor)\n",
    "        num_dominated = len(dominated)\n",
    "        total_selected = sum(self.genetic_code)\n",
    "\n",
    "        if num_dominated == self.num_nodes:\n",
    "            fitness = self.num_nodes + (self.num_nodes - total_selected)\n",
    "        else:\n",
    "            fitness = num_dominated\n",
    "\n",
    "        self.total_selected = total_selected\n",
    "        self.num_dominated = num_dominated\n",
    "\n",
    "        return fitness"
   ],
   "outputs": [],
   "execution_count": 19
  },
  {
   "metadata": {
    "ExecuteTime": {
     "end_time": "2025-02-23T19:23:25.203084Z",
     "start_time": "2025-02-23T19:23:25.197371Z"
    }
   },
   "cell_type": "code",
   "source": [
    "def initial_population(graph, population_size):\n",
    "    population = []\n",
    "    n = len(graph)\n",
    "    for _ in range(population_size):\n",
    "        genetic_code = [random.randint(0, 1) for _ in range(n)]\n",
    "        individual = Individual(genetic_code, graph)\n",
    "        population.append(individual)\n",
    "    return population"
   ],
   "id": "2cf3821f20ba8bc0",
   "outputs": [],
   "execution_count": 20
  },
  {
   "metadata": {
    "ExecuteTime": {
     "end_time": "2025-02-23T19:23:25.933461Z",
     "start_time": "2025-02-23T19:23:25.925890Z"
    }
   },
   "cell_type": "code",
   "source": [
    "def roulette_selection(population):\n",
    "    total_fitness = sum(individual.fitness for individual in population)\n",
    "    if total_fitness == 0:\n",
    "        return random.choice(population)\n",
    "    winner = random.choices(population, weights=[individual.fitness for individual in population], k=1)[0]\n",
    "    return winner"
   ],
   "id": "92356b5656cb5ee",
   "outputs": [],
   "execution_count": 21
  },
  {
   "metadata": {
    "ExecuteTime": {
     "end_time": "2025-02-23T19:23:26.588450Z",
     "start_time": "2025-02-23T19:23:26.581965Z"
    }
   },
   "cell_type": "code",
   "source": [
    "def tournament_selection(population, tournament_size):\n",
    "    selected = random.sample(population, tournament_size)\n",
    "    winner = max(selected, key=lambda x: (x.fitness, -x.total_selected))\n",
    "    return winner"
   ],
   "id": "502163225eb76ace",
   "outputs": [],
   "execution_count": 22
  },
  {
   "metadata": {
    "ExecuteTime": {
     "end_time": "2025-02-23T19:23:27.405103Z",
     "start_time": "2025-02-23T19:23:27.398279Z"
    }
   },
   "cell_type": "code",
   "source": [
    "def crossover(parent1, parent2):\n",
    "    n = parent1.num_nodes\n",
    "\n",
    "    break_point = random.randint(1, n - 1)\n",
    "    child1_code = parent1.genetic_code[:break_point] + parent2.genetic_code[break_point:]\n",
    "    child2_code = parent2.genetic_code[:break_point] + parent1.genetic_code[break_point:]\n",
    "\n",
    "    child1 = Individual(child1_code, parent1.graph)\n",
    "    child2 = Individual(child2_code, parent2.graph)\n",
    "\n",
    "    return child1, child2"
   ],
   "id": "4ea66ef3776e010c",
   "outputs": [],
   "execution_count": 23
  },
  {
   "metadata": {
    "ExecuteTime": {
     "end_time": "2025-02-23T19:23:28.108732Z",
     "start_time": "2025-02-23T19:23:28.100150Z"
    }
   },
   "cell_type": "code",
   "source": [
    "def mutate(individual, mutation_rate):\n",
    "    if random.random() < mutation_rate:\n",
    "        index = random.randrange(individual.num_nodes)\n",
    "        individual.genetic_code[index] = 1 - individual.genetic_code[index]\n",
    "        individual.fitness = individual.calculate_fitness()\n",
    "    return individual"
   ],
   "id": "8810ba85e6866337",
   "outputs": [],
   "execution_count": 24
  },
  {
   "metadata": {
    "ExecuteTime": {
     "end_time": "2025-02-23T19:23:29.000367Z",
     "start_time": "2025-02-23T19:23:28.989447Z"
    }
   },
   "cell_type": "code",
   "source": [
    "def ga(graph, population_size, mutation_rate, tournament_size, max_iterations, selection_method, elitism_size):\n",
    "    if selection_method not in ['roulette_selection', 'tournament_selection']:\n",
    "        raise ValueError(\"Invalid selection method\")\n",
    "\n",
    "    population = initial_population(graph, population_size)\n",
    "\n",
    "    for generation in range(1, max_iterations + 1):\n",
    "        population.sort(key=lambda x: (-x.fitness, x.total_selected))\n",
    "        best_individual = population[0]\n",
    "        print(f\"Generation {generation}: {best_individual}\")\n",
    "\n",
    "        new_population = []\n",
    "        elites = [copy.deepcopy(individual) for individual in population[:elitism_size]]\n",
    "        new_population.extend(elites)\n",
    "\n",
    "        while len(new_population) < population_size:\n",
    "            if selection_method == 'roulette_selection':\n",
    "                parent1 = roulette_selection(population)\n",
    "                parent2 = roulette_selection(population)\n",
    "            else:\n",
    "                parent1 = tournament_selection(population, tournament_size)\n",
    "                parent2 = tournament_selection(population, tournament_size)\n",
    "\n",
    "            child1, child2 = crossover(parent1, parent2)\n",
    "            child1 = mutate(child1, mutation_rate)\n",
    "            child2 = mutate(child2, mutation_rate)\n",
    "\n",
    "            children = [child1, child2]\n",
    "            children.sort(key=lambda x: (-x.fitness, x.total_selected))\n",
    "\n",
    "            for child in children:\n",
    "                if len(new_population) < population_size:\n",
    "                    new_population.append(child)\n",
    "                else:\n",
    "                    break\n",
    "        population = new_population\n",
    "\n",
    "    dominating_individuals = [individual for individual in population if\n",
    "                              individual.num_dominated == individual.num_nodes]\n",
    "\n",
    "    if dominating_individuals:\n",
    "        best = max(dominating_individuals, key=lambda x: (x.fitness, -x.total_selected))\n",
    "    else:\n",
    "        best = max(population, key=lambda x: (x.fitness, -x.total_selected))\n",
    "\n",
    "    print(f\"Best individual after {max_iterations} iterations: {best}\")\n",
    "\n",
    "    return best.genetic_code, best.fitness"
   ],
   "id": "cd7f1f6efd0b633a",
   "outputs": [],
   "execution_count": 25
  },
  {
   "metadata": {
    "ExecuteTime": {
     "end_time": "2025-02-23T19:23:30.406559Z",
     "start_time": "2025-02-23T19:23:30.365336Z"
    }
   },
   "cell_type": "code",
   "source": [
    "if __name__ == '__main__':\n",
    "    g = {\n",
    "        1: [2, 5],\n",
    "        2: [1, 3, 5],\n",
    "        3: [2, 4, 6],\n",
    "        4: [3],\n",
    "        5: [1, 2, 6],\n",
    "        6: [3, 5]\n",
    "    }\n",
    "\n",
    "    best_code, best_fitness = ga(\n",
    "        graph=g,\n",
    "        population_size=50,\n",
    "        mutation_rate=0.1,\n",
    "        tournament_size=3,\n",
    "        max_iterations=100,\n",
    "        selection_method='tournament_selection',\n",
    "        elitism_size=2\n",
    "    )\n",
    "\n",
    "    nodes = sorted(g.keys())\n",
    "    print(\"Best genetic code (dominating set):\", best_code)\n",
    "\n",
    "    selected_vertices = [nodes[i] for i, bit in enumerate(best_code) if bit == 1]\n",
    "    print(\"Selected vertices:\", selected_vertices)\n",
    "    print(\"Fitness:\", best_fitness)"
   ],
   "id": "baf82049f21ab231",
   "outputs": [
    {
     "name": "stdout",
     "output_type": "stream",
     "text": [
      "Generation 1: Gen: 011000 | Fitness: 10 | Selected: 2\n",
      "Generation 2: Gen: 011000 | Fitness: 10 | Selected: 2\n",
      "Generation 3: Gen: 011000 | Fitness: 10 | Selected: 2\n",
      "Generation 4: Gen: 011000 | Fitness: 10 | Selected: 2\n",
      "Generation 5: Gen: 011000 | Fitness: 10 | Selected: 2\n",
      "Generation 6: Gen: 011000 | Fitness: 10 | Selected: 2\n",
      "Generation 7: Gen: 011000 | Fitness: 10 | Selected: 2\n",
      "Generation 8: Gen: 011000 | Fitness: 10 | Selected: 2\n",
      "Generation 9: Gen: 011000 | Fitness: 10 | Selected: 2\n",
      "Generation 10: Gen: 011000 | Fitness: 10 | Selected: 2\n",
      "Generation 11: Gen: 011000 | Fitness: 10 | Selected: 2\n",
      "Generation 12: Gen: 011000 | Fitness: 10 | Selected: 2\n",
      "Generation 13: Gen: 011000 | Fitness: 10 | Selected: 2\n",
      "Generation 14: Gen: 011000 | Fitness: 10 | Selected: 2\n",
      "Generation 15: Gen: 011000 | Fitness: 10 | Selected: 2\n",
      "Generation 16: Gen: 011000 | Fitness: 10 | Selected: 2\n",
      "Generation 17: Gen: 011000 | Fitness: 10 | Selected: 2\n",
      "Generation 18: Gen: 011000 | Fitness: 10 | Selected: 2\n",
      "Generation 19: Gen: 011000 | Fitness: 10 | Selected: 2\n",
      "Generation 20: Gen: 011000 | Fitness: 10 | Selected: 2\n",
      "Generation 21: Gen: 011000 | Fitness: 10 | Selected: 2\n",
      "Generation 22: Gen: 011000 | Fitness: 10 | Selected: 2\n",
      "Generation 23: Gen: 011000 | Fitness: 10 | Selected: 2\n",
      "Generation 24: Gen: 011000 | Fitness: 10 | Selected: 2\n",
      "Generation 25: Gen: 011000 | Fitness: 10 | Selected: 2\n",
      "Generation 26: Gen: 011000 | Fitness: 10 | Selected: 2\n",
      "Generation 27: Gen: 011000 | Fitness: 10 | Selected: 2\n",
      "Generation 28: Gen: 011000 | Fitness: 10 | Selected: 2\n",
      "Generation 29: Gen: 011000 | Fitness: 10 | Selected: 2\n",
      "Generation 30: Gen: 011000 | Fitness: 10 | Selected: 2\n",
      "Generation 31: Gen: 011000 | Fitness: 10 | Selected: 2\n",
      "Generation 32: Gen: 011000 | Fitness: 10 | Selected: 2\n",
      "Generation 33: Gen: 011000 | Fitness: 10 | Selected: 2\n",
      "Generation 34: Gen: 011000 | Fitness: 10 | Selected: 2\n",
      "Generation 35: Gen: 011000 | Fitness: 10 | Selected: 2\n",
      "Generation 36: Gen: 011000 | Fitness: 10 | Selected: 2\n",
      "Generation 37: Gen: 011000 | Fitness: 10 | Selected: 2\n",
      "Generation 38: Gen: 011000 | Fitness: 10 | Selected: 2\n",
      "Generation 39: Gen: 011000 | Fitness: 10 | Selected: 2\n",
      "Generation 40: Gen: 011000 | Fitness: 10 | Selected: 2\n",
      "Generation 41: Gen: 011000 | Fitness: 10 | Selected: 2\n",
      "Generation 42: Gen: 011000 | Fitness: 10 | Selected: 2\n",
      "Generation 43: Gen: 011000 | Fitness: 10 | Selected: 2\n",
      "Generation 44: Gen: 011000 | Fitness: 10 | Selected: 2\n",
      "Generation 45: Gen: 011000 | Fitness: 10 | Selected: 2\n",
      "Generation 46: Gen: 011000 | Fitness: 10 | Selected: 2\n",
      "Generation 47: Gen: 011000 | Fitness: 10 | Selected: 2\n",
      "Generation 48: Gen: 011000 | Fitness: 10 | Selected: 2\n",
      "Generation 49: Gen: 011000 | Fitness: 10 | Selected: 2\n",
      "Generation 50: Gen: 011000 | Fitness: 10 | Selected: 2\n",
      "Generation 51: Gen: 011000 | Fitness: 10 | Selected: 2\n",
      "Generation 52: Gen: 011000 | Fitness: 10 | Selected: 2\n",
      "Generation 53: Gen: 011000 | Fitness: 10 | Selected: 2\n",
      "Generation 54: Gen: 011000 | Fitness: 10 | Selected: 2\n",
      "Generation 55: Gen: 011000 | Fitness: 10 | Selected: 2\n",
      "Generation 56: Gen: 011000 | Fitness: 10 | Selected: 2\n",
      "Generation 57: Gen: 011000 | Fitness: 10 | Selected: 2\n",
      "Generation 58: Gen: 011000 | Fitness: 10 | Selected: 2\n",
      "Generation 59: Gen: 011000 | Fitness: 10 | Selected: 2\n",
      "Generation 60: Gen: 011000 | Fitness: 10 | Selected: 2\n",
      "Generation 61: Gen: 011000 | Fitness: 10 | Selected: 2\n",
      "Generation 62: Gen: 011000 | Fitness: 10 | Selected: 2\n",
      "Generation 63: Gen: 011000 | Fitness: 10 | Selected: 2\n",
      "Generation 64: Gen: 011000 | Fitness: 10 | Selected: 2\n",
      "Generation 65: Gen: 011000 | Fitness: 10 | Selected: 2\n",
      "Generation 66: Gen: 011000 | Fitness: 10 | Selected: 2\n",
      "Generation 67: Gen: 011000 | Fitness: 10 | Selected: 2\n",
      "Generation 68: Gen: 011000 | Fitness: 10 | Selected: 2\n",
      "Generation 69: Gen: 011000 | Fitness: 10 | Selected: 2\n",
      "Generation 70: Gen: 011000 | Fitness: 10 | Selected: 2\n",
      "Generation 71: Gen: 011000 | Fitness: 10 | Selected: 2\n",
      "Generation 72: Gen: 011000 | Fitness: 10 | Selected: 2\n",
      "Generation 73: Gen: 011000 | Fitness: 10 | Selected: 2\n",
      "Generation 74: Gen: 011000 | Fitness: 10 | Selected: 2\n",
      "Generation 75: Gen: 011000 | Fitness: 10 | Selected: 2\n",
      "Generation 76: Gen: 011000 | Fitness: 10 | Selected: 2\n",
      "Generation 77: Gen: 011000 | Fitness: 10 | Selected: 2\n",
      "Generation 78: Gen: 011000 | Fitness: 10 | Selected: 2\n",
      "Generation 79: Gen: 011000 | Fitness: 10 | Selected: 2\n",
      "Generation 80: Gen: 011000 | Fitness: 10 | Selected: 2\n",
      "Generation 81: Gen: 011000 | Fitness: 10 | Selected: 2\n",
      "Generation 82: Gen: 011000 | Fitness: 10 | Selected: 2\n",
      "Generation 83: Gen: 011000 | Fitness: 10 | Selected: 2\n",
      "Generation 84: Gen: 011000 | Fitness: 10 | Selected: 2\n",
      "Generation 85: Gen: 011000 | Fitness: 10 | Selected: 2\n",
      "Generation 86: Gen: 011000 | Fitness: 10 | Selected: 2\n",
      "Generation 87: Gen: 011000 | Fitness: 10 | Selected: 2\n",
      "Generation 88: Gen: 011000 | Fitness: 10 | Selected: 2\n",
      "Generation 89: Gen: 011000 | Fitness: 10 | Selected: 2\n",
      "Generation 90: Gen: 011000 | Fitness: 10 | Selected: 2\n",
      "Generation 91: Gen: 011000 | Fitness: 10 | Selected: 2\n",
      "Generation 92: Gen: 011000 | Fitness: 10 | Selected: 2\n",
      "Generation 93: Gen: 011000 | Fitness: 10 | Selected: 2\n",
      "Generation 94: Gen: 011000 | Fitness: 10 | Selected: 2\n",
      "Generation 95: Gen: 011000 | Fitness: 10 | Selected: 2\n",
      "Generation 96: Gen: 011000 | Fitness: 10 | Selected: 2\n",
      "Generation 97: Gen: 011000 | Fitness: 10 | Selected: 2\n",
      "Generation 98: Gen: 011000 | Fitness: 10 | Selected: 2\n",
      "Generation 99: Gen: 011000 | Fitness: 10 | Selected: 2\n",
      "Generation 100: Gen: 011000 | Fitness: 10 | Selected: 2\n",
      "Best individual after 100 iterations: Gen: 011000 | Fitness: 10 | Selected: 2\n",
      "Best genetic code (dominating set): [0, 1, 1, 0, 0, 0]\n",
      "Selected vertices: [2, 3]\n",
      "Fitness: 10\n"
     ]
    }
   ],
   "execution_count": 26
  },
  {
   "metadata": {
    "ExecuteTime": {
     "end_time": "2025-02-23T19:23:32.144762Z",
     "start_time": "2025-02-23T19:23:32.140242Z"
    }
   },
   "cell_type": "code",
   "source": "import networkx as nx",
   "id": "9563d02ed4f9fb01",
   "outputs": [],
   "execution_count": 27
  },
  {
   "metadata": {
    "ExecuteTime": {
     "end_time": "2025-02-23T19:23:33.989720Z",
     "start_time": "2025-02-23T19:23:33.982701Z"
    }
   },
   "cell_type": "code",
   "source": [
    "medium_graph = {\n",
    "    1: [2, 27],\n",
    "    2: [1, 30, 7],\n",
    "    3: [30, 24, 25],\n",
    "    4: [5, 19],\n",
    "    5: [4, 8],\n",
    "    6: [31, 15, 16],\n",
    "    7: [2, 29, 17, 32],\n",
    "    8: [5, 9, 17, 19],\n",
    "    9: [8, 10],\n",
    "    10: [9, 17],\n",
    "    11: [12, 13, 24],\n",
    "    12: [11, 14, 26],\n",
    "    13: [11, 23, 28],\n",
    "    14: [12, 29, 18],\n",
    "    15: [6, 20, 21, 16],\n",
    "    16: [6, 15, 31, 32],\n",
    "    17: [7, 8, 10, 27],\n",
    "    18: [14, 29, 19],\n",
    "    19: [4, 8, 18],\n",
    "    20: [15, 21],\n",
    "    21: [15, 20, 22],\n",
    "    22: [21, 29, 26],\n",
    "    23: [13, 28, 24],\n",
    "    24: [3, 11, 23, 25],\n",
    "    25: [3, 24],\n",
    "    26: [12, 22, 29],\n",
    "    27: [1, 17],\n",
    "    28: [13, 23],\n",
    "    29: [7, 14, 18, 22, 26, 32],\n",
    "    30: [2, 3, 31, 32],\n",
    "    31: [6, 16, 30],\n",
    "    32: [7, 16, 29, 30]\n",
    "}"
   ],
   "id": "c6b52ca8a6a854c0",
   "outputs": [],
   "execution_count": 28
  },
  {
   "metadata": {
    "ExecuteTime": {
     "end_time": "2025-02-23T19:28:50.793358Z",
     "start_time": "2025-02-23T19:28:36.522183Z"
    }
   },
   "cell_type": "code",
   "source": [
    "best_code, best_fitness = ga(\n",
    "    graph=medium_graph,\n",
    "    population_size=5000,\n",
    "    mutation_rate=0.2,\n",
    "    tournament_size=100,\n",
    "    max_iterations=20000,\n",
    "    selection_method='tournament_selection',\n",
    "    elitism_size=2500\n",
    ")\n",
    "\n",
    "nodes = sorted(medium_graph.keys())\n",
    "print(\"Best genetic code (dominating set):\", best_code)\n",
    "\n",
    "selected_vertices = [nodes[i] for i, bit in enumerate(best_code) if bit == 1]\n",
    "print(\"Selected vertices:\", selected_vertices)\n",
    "print(\"Fitness:\", best_fitness)"
   ],
   "id": "6f7ed2cd342a619a",
   "outputs": [
    {
     "name": "stdout",
     "output_type": "stream",
     "text": [
      "Generation 1: Gen: 00011000110011100000001100101100 | Fitness: 52 | Selected: 12\n",
      "Generation 2: Gen: 01010000100000011010100101011000 | Fitness: 53 | Selected: 11\n",
      "Generation 3: Gen: 10010000111000000001001010001010 | Fitness: 54 | Selected: 10\n",
      "Generation 4: Gen: 00010000100100100000001100101100 | Fitness: 55 | Selected: 9\n",
      "Generation 5: Gen: 00010000100100100000001100101100 | Fitness: 55 | Selected: 9\n",
      "Generation 6: Gen: 00010000100100100000001100101100 | Fitness: 55 | Selected: 9\n",
      "Generation 7: Gen: 00010000100100100000001100101100 | Fitness: 55 | Selected: 9\n",
      "Generation 8: Gen: 00010000100100100000001100101100 | Fitness: 55 | Selected: 9\n",
      "Generation 9: Gen: 00010000100100100000001100101100 | Fitness: 55 | Selected: 9\n",
      "Generation 10: Gen: 00010000100100100000001100101100 | Fitness: 55 | Selected: 9\n",
      "Generation 11: Gen: 00010000100100100000001100101100 | Fitness: 55 | Selected: 9\n",
      "Generation 12: Gen: 00010000100100100000001100101100 | Fitness: 55 | Selected: 9\n",
      "Generation 13: Gen: 00010000100100100000001100101100 | Fitness: 55 | Selected: 9\n",
      "Generation 14: Gen: 00010000100100100000001100101100 | Fitness: 55 | Selected: 9\n",
      "Generation 15: Gen: 00010000100100100000001100101100 | Fitness: 55 | Selected: 9\n",
      "Generation 16: Gen: 00010000100100100000001100101100 | Fitness: 55 | Selected: 9\n",
      "Generation 17: Gen: 00010000100100100000001100101100 | Fitness: 55 | Selected: 9\n",
      "Generation 18: Gen: 00010000100100100000001100101100 | Fitness: 55 | Selected: 9\n"
     ]
    },
    {
     "ename": "KeyboardInterrupt",
     "evalue": "",
     "output_type": "error",
     "traceback": [
      "\u001B[0;31m---------------------------------------------------------------------------\u001B[0m",
      "\u001B[0;31mKeyboardInterrupt\u001B[0m                         Traceback (most recent call last)",
      "Cell \u001B[0;32mIn[36], line 1\u001B[0m\n\u001B[0;32m----> 1\u001B[0m best_code, best_fitness \u001B[38;5;241m=\u001B[39m ga(\n\u001B[1;32m      2\u001B[0m     graph\u001B[38;5;241m=\u001B[39mmedium_graph,\n\u001B[1;32m      3\u001B[0m     population_size\u001B[38;5;241m=\u001B[39m\u001B[38;5;241m5000\u001B[39m,\n\u001B[1;32m      4\u001B[0m     mutation_rate\u001B[38;5;241m=\u001B[39m\u001B[38;5;241m0.2\u001B[39m,\n\u001B[1;32m      5\u001B[0m     tournament_size\u001B[38;5;241m=\u001B[39m\u001B[38;5;241m100\u001B[39m,\n\u001B[1;32m      6\u001B[0m     max_iterations\u001B[38;5;241m=\u001B[39m\u001B[38;5;241m20000\u001B[39m,\n\u001B[1;32m      7\u001B[0m     selection_method\u001B[38;5;241m=\u001B[39m\u001B[38;5;124m'\u001B[39m\u001B[38;5;124mtournament_selection\u001B[39m\u001B[38;5;124m'\u001B[39m,\n\u001B[1;32m      8\u001B[0m     elitism_size\u001B[38;5;241m=\u001B[39m\u001B[38;5;241m2500\u001B[39m\n\u001B[1;32m      9\u001B[0m )\n\u001B[1;32m     11\u001B[0m nodes \u001B[38;5;241m=\u001B[39m \u001B[38;5;28msorted\u001B[39m(medium_graph\u001B[38;5;241m.\u001B[39mkeys())\n\u001B[1;32m     12\u001B[0m \u001B[38;5;28mprint\u001B[39m(\u001B[38;5;124m\"\u001B[39m\u001B[38;5;124mBest genetic code (dominating set):\u001B[39m\u001B[38;5;124m\"\u001B[39m, best_code)\n",
      "Cell \u001B[0;32mIn[25], line 24\u001B[0m, in \u001B[0;36mga\u001B[0;34m(graph, population_size, mutation_rate, tournament_size, max_iterations, selection_method, elitism_size)\u001B[0m\n\u001B[1;32m     21\u001B[0m     parent1 \u001B[38;5;241m=\u001B[39m tournament_selection(population, tournament_size)\n\u001B[1;32m     22\u001B[0m     parent2 \u001B[38;5;241m=\u001B[39m tournament_selection(population, tournament_size)\n\u001B[0;32m---> 24\u001B[0m child1, child2 \u001B[38;5;241m=\u001B[39m crossover(parent1, parent2)\n\u001B[1;32m     25\u001B[0m child1 \u001B[38;5;241m=\u001B[39m mutate(child1, mutation_rate)\n\u001B[1;32m     26\u001B[0m child2 \u001B[38;5;241m=\u001B[39m mutate(child2, mutation_rate)\n",
      "Cell \u001B[0;32mIn[23], line 8\u001B[0m, in \u001B[0;36mcrossover\u001B[0;34m(parent1, parent2)\u001B[0m\n\u001B[1;32m      5\u001B[0m child1_code \u001B[38;5;241m=\u001B[39m parent1\u001B[38;5;241m.\u001B[39mgenetic_code[:break_point] \u001B[38;5;241m+\u001B[39m parent2\u001B[38;5;241m.\u001B[39mgenetic_code[break_point:]\n\u001B[1;32m      6\u001B[0m child2_code \u001B[38;5;241m=\u001B[39m parent2\u001B[38;5;241m.\u001B[39mgenetic_code[:break_point] \u001B[38;5;241m+\u001B[39m parent1\u001B[38;5;241m.\u001B[39mgenetic_code[break_point:]\n\u001B[0;32m----> 8\u001B[0m child1 \u001B[38;5;241m=\u001B[39m Individual(child1_code, parent1\u001B[38;5;241m.\u001B[39mgraph)\n\u001B[1;32m      9\u001B[0m child2 \u001B[38;5;241m=\u001B[39m Individual(child2_code, parent2\u001B[38;5;241m.\u001B[39mgraph)\n\u001B[1;32m     11\u001B[0m \u001B[38;5;28;01mreturn\u001B[39;00m child1, child2\n",
      "Cell \u001B[0;32mIn[19], line 11\u001B[0m, in \u001B[0;36mIndividual.__init__\u001B[0;34m(self, genetic_code, graph, fitness)\u001B[0m\n\u001B[1;32m      8\u001B[0m \u001B[38;5;28mself\u001B[39m\u001B[38;5;241m.\u001B[39mtotal_selected \u001B[38;5;241m=\u001B[39m \u001B[38;5;28;01mNone\u001B[39;00m\n\u001B[1;32m     10\u001B[0m \u001B[38;5;28;01mif\u001B[39;00m fitness \u001B[38;5;129;01mis\u001B[39;00m \u001B[38;5;28;01mNone\u001B[39;00m:\n\u001B[0;32m---> 11\u001B[0m     \u001B[38;5;28mself\u001B[39m\u001B[38;5;241m.\u001B[39mfitness \u001B[38;5;241m=\u001B[39m \u001B[38;5;28mself\u001B[39m\u001B[38;5;241m.\u001B[39mcalculate_fitness()\n\u001B[1;32m     12\u001B[0m \u001B[38;5;28;01melse\u001B[39;00m:\n\u001B[1;32m     13\u001B[0m     \u001B[38;5;28mself\u001B[39m\u001B[38;5;241m.\u001B[39mfitness \u001B[38;5;241m=\u001B[39m fitness\n",
      "Cell \u001B[0;32mIn[19], line 21\u001B[0m, in \u001B[0;36mIndividual.calculate_fitness\u001B[0;34m(self)\u001B[0m\n\u001B[1;32m     18\u001B[0m \u001B[38;5;28;01mdef\u001B[39;00m \u001B[38;5;21m__repr__\u001B[39m(\u001B[38;5;28mself\u001B[39m):\n\u001B[1;32m     19\u001B[0m     \u001B[38;5;28;01mreturn\u001B[39;00m \u001B[38;5;28mself\u001B[39m\u001B[38;5;241m.\u001B[39m\u001B[38;5;21m__str__\u001B[39m()\n\u001B[0;32m---> 21\u001B[0m \u001B[38;5;28;01mdef\u001B[39;00m \u001B[38;5;21mcalculate_fitness\u001B[39m(\u001B[38;5;28mself\u001B[39m):\n\u001B[1;32m     22\u001B[0m     dominated \u001B[38;5;241m=\u001B[39m \u001B[38;5;28mset\u001B[39m()\n\u001B[1;32m     24\u001B[0m     \u001B[38;5;28;01mfor\u001B[39;00m i, gene \u001B[38;5;129;01min\u001B[39;00m \u001B[38;5;28menumerate\u001B[39m(\u001B[38;5;28mself\u001B[39m\u001B[38;5;241m.\u001B[39mgenetic_code):\n",
      "\u001B[0;31mKeyboardInterrupt\u001B[0m: "
     ]
    }
   ],
   "execution_count": 36
  },
  {
   "metadata": {
    "ExecuteTime": {
     "end_time": "2025-02-23T19:31:46.478161Z",
     "start_time": "2025-02-23T19:31:46.472533Z"
    }
   },
   "cell_type": "code",
   "source": [
    "best_code = [int(i) for i in \"00010000100100100000001100101100\"]\n",
    "nodes = sorted(medium_graph.keys())\n",
    "selected_vertices = [nodes[i] for i, bit in enumerate(best_code) if bit == 1]\n",
    "print(\"Selected vertices:\", selected_vertices)"
   ],
   "id": "c5c249baab475f86",
   "outputs": [
    {
     "name": "stdout",
     "output_type": "stream",
     "text": [
      "Selected vertices: [4, 9, 12, 15, 23, 24, 27, 29, 30]\n"
     ]
    }
   ],
   "execution_count": 37
  },
  {
   "metadata": {
    "ExecuteTime": {
     "end_time": "2025-02-23T19:34:59.596781Z",
     "start_time": "2025-02-23T19:34:59.590054Z"
    }
   },
   "cell_type": "code",
   "source": [
    "medium_graph_nx = nx.Graph(medium_graph_dict)\n",
    "is_dominating = nx.is_dominating_set(medium_graph_nx, selected_vertices)\n",
    "\n",
    "if is_dominating:\n",
    "    print(f\"{selected_vertices} is dominating set.\")"
   ],
   "id": "fc56d5504be982f2",
   "outputs": [
    {
     "name": "stdout",
     "output_type": "stream",
     "text": [
      "[4, 9, 12, 15, 23, 24, 27, 29, 30] is dominating set.\n"
     ]
    }
   ],
   "execution_count": 39
  },
  {
   "metadata": {},
   "cell_type": "code",
   "outputs": [],
   "execution_count": null,
   "source": "",
   "id": "b5a8640185731956"
  }
 ],
 "metadata": {
  "kernelspec": {
   "display_name": "Python 3",
   "language": "python",
   "name": "python3"
  },
  "language_info": {
   "codemirror_mode": {
    "name": "ipython",
    "version": 2
   },
   "file_extension": ".py",
   "mimetype": "text/x-python",
   "name": "python",
   "nbconvert_exporter": "python",
   "pygments_lexer": "ipython2",
   "version": "2.7.6"
  }
 },
 "nbformat": 4,
 "nbformat_minor": 5
}
