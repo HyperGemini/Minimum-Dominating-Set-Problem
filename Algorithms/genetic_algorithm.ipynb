{
 "cells": [
  {
   "cell_type": "code",
   "id": "initial_id",
   "metadata": {
    "collapsed": true,
    "ExecuteTime": {
     "end_time": "2025-02-23T15:48:28.281687Z",
     "start_time": "2025-02-23T15:48:28.274113Z"
    }
   },
   "source": [
    "import random\n",
    "import copy"
   ],
   "outputs": [],
   "execution_count": 1
  },
  {
   "metadata": {
    "ExecuteTime": {
     "end_time": "2025-02-23T16:39:37.984156Z",
     "start_time": "2025-02-23T16:39:37.976602Z"
    }
   },
   "cell_type": "code",
   "source": [
    "class Individual:\n",
    "    def __init__(self, genetic_code, graph, fitness=None):\n",
    "        self.genetic_code = genetic_code\n",
    "        self.graph = graph\n",
    "        self.nodes = list(self.graph.keys())\n",
    "        self.num_nodes = len(self.graph)\n",
    "        self.num_dominated = None\n",
    "        self.total_selected = None\n",
    "\n",
    "        if fitness is None:\n",
    "            self.fitness = self.calculate_fitness()\n",
    "        else:\n",
    "            self.fitness = fitness\n",
    "\n",
    "    def __str__(self):\n",
    "        return f\"Gen: {''.join(map(str, self.genetic_code))} | Fitness: {self.fitness} | Selected: {sum(self.genetic_code)}\"\n",
    "\n",
    "    def __repr__(self):\n",
    "        return self.__str__()\n",
    "\n",
    "    def calculate_fitness(self):\n",
    "        dominated = set()\n",
    "\n",
    "        for i, gene in enumerate(self.genetic_code):\n",
    "            if gene == 1:\n",
    "                node = self.nodes[i]\n",
    "                dominated.add(node)\n",
    "                for neighbor in self.graph[node]:\n",
    "                    dominated.add(neighbor)\n",
    "        num_dominated = len(dominated)\n",
    "        total_selected = sum(self.genetic_code)\n",
    "\n",
    "        if num_dominated == self.num_nodes:\n",
    "            fitness = self.num_nodes + (self.num_nodes - total_selected)\n",
    "        else:\n",
    "            fitness = num_dominated\n",
    "\n",
    "        self.total_selected = total_selected\n",
    "        self.num_dominated = num_dominated\n",
    "\n",
    "        return fitness"
   ],
   "id": "a383e18c52158a40",
   "outputs": [],
   "execution_count": 21
  },
  {
   "metadata": {
    "ExecuteTime": {
     "end_time": "2025-02-23T16:39:41.065032Z",
     "start_time": "2025-02-23T16:39:41.056563Z"
    }
   },
   "cell_type": "code",
   "source": [
    "def initial_population(graph, population_size):\n",
    "    population = []\n",
    "    n = len(graph)\n",
    "    for _ in range(population_size):\n",
    "        genetic_code = [random.randint(0, 1) for _ in range(n)]\n",
    "        individual = Individual(genetic_code, graph)\n",
    "        population.append(individual)\n",
    "    return population"
   ],
   "id": "10befac2745ed716",
   "outputs": [],
   "execution_count": 22
  },
  {
   "metadata": {
    "ExecuteTime": {
     "end_time": "2025-02-23T16:40:39.249034Z",
     "start_time": "2025-02-23T16:40:39.238328Z"
    }
   },
   "cell_type": "code",
   "source": [
    "def roulette_selection(population):\n",
    "    total_fitness = sum(individual.fitness for individual in population)\n",
    "    if total_fitness == 0:\n",
    "        return random.choice(population)\n",
    "    winner = random.choices(population, weights=[individual.fitness for individual in population], k=1)[0]\n",
    "    return winner"
   ],
   "id": "55e5b9a3c6adbb67",
   "outputs": [],
   "execution_count": 26
  },
  {
   "metadata": {
    "ExecuteTime": {
     "end_time": "2025-02-23T16:36:11.841117Z",
     "start_time": "2025-02-23T16:36:11.832607Z"
    }
   },
   "cell_type": "code",
   "source": [
    "def tournament_selection(population, tournament_size):\n",
    "    selected = random.sample(population, tournament_size)\n",
    "    winner = max(selected, key=lambda x: (x.fitness, -x.total_selected))\n",
    "    return winner"
   ],
   "id": "a87ddb504b483e99",
   "outputs": [],
   "execution_count": 17
  },
  {
   "metadata": {
    "ExecuteTime": {
     "end_time": "2025-02-23T16:40:00.853721Z",
     "start_time": "2025-02-23T16:40:00.847260Z"
    }
   },
   "cell_type": "code",
   "source": [
    "def crossover(parent1, parent2):\n",
    "    n = parent1.num_nodes\n",
    "\n",
    "    break_point = random.randint(1, n - 1)\n",
    "    child1_code = parent1.genetic_code[:break_point] + parent2.genetic_code[break_point:]\n",
    "    child2_code = parent2.genetic_code[:break_point] + parent1.genetic_code[break_point:]\n",
    "\n",
    "    child1 = Individual(child1_code, parent1.graph)\n",
    "    child2 = Individual(child2_code, parent2.graph)\n",
    "\n",
    "    return child1, child2"
   ],
   "id": "f14fcb88d3b7d9b9",
   "outputs": [],
   "execution_count": 24
  },
  {
   "metadata": {
    "ExecuteTime": {
     "end_time": "2025-02-23T16:38:32.316770Z",
     "start_time": "2025-02-23T16:38:32.312707Z"
    }
   },
   "cell_type": "code",
   "source": [
    "def mutate(individual, mutation_rate):\n",
    "    if random.random() < mutation_rate:\n",
    "        index = random.randrange(individual.num_nodes)\n",
    "        individual.genetic_code[index] = 1 - individual.genetic_code[index]\n",
    "        individual.fitness = individual.calculate_fitness()\n",
    "    return individual"
   ],
   "id": "697c4f1636db71a1",
   "outputs": [],
   "execution_count": 19
  },
  {
   "metadata": {
    "ExecuteTime": {
     "end_time": "2025-02-23T16:45:28.357171Z",
     "start_time": "2025-02-23T16:45:28.336972Z"
    }
   },
   "cell_type": "code",
   "source": [
    "def ga(graph, population_size, mutation_rate, tournament_size, max_iterations, selection_method, elitism_size):\n",
    "    if selection_method not in ['roulette_selection', 'tournament_selection']:\n",
    "        raise ValueError(\"Invalid selection method\")\n",
    "\n",
    "    population = initial_population(graph, population_size)\n",
    "\n",
    "    for generation in range(1, max_iterations + 1):\n",
    "        population.sort(key=lambda x: (-x.fitness, x.total_selected))\n",
    "        best_individual = population[0]\n",
    "        print(f\"Generation {generation}: {best_individual}\")\n",
    "\n",
    "        new_population = []\n",
    "        elites = [copy.deepcopy(individual) for individual in population[:elitism_size]]\n",
    "        new_population.extend(elites)\n",
    "\n",
    "        while len(new_population) < population_size:\n",
    "            if selection_method == 'roulette_selection':\n",
    "                parent1 = roulette_selection(population)\n",
    "                parent2 = roulette_selection(population)\n",
    "            else:\n",
    "                parent1 = tournament_selection(population, tournament_size)\n",
    "                parent2 = tournament_selection(population, tournament_size)\n",
    "\n",
    "            child1, child2 = crossover(parent1, parent2)\n",
    "            child1 = mutate(child1, mutation_rate)\n",
    "            child2 = mutate(child2, mutation_rate)\n",
    "\n",
    "            children = [child1, child2]\n",
    "            children.sort(key=lambda x: (-x.fitness, x.total_selected))\n",
    "\n",
    "            for child in children:\n",
    "                if len(new_population) < population_size:\n",
    "                    new_population.append(child)\n",
    "                else:\n",
    "                    break\n",
    "        population = new_population\n",
    "\n",
    "    dominating_individuals = [individual for individual in population if\n",
    "                              individual.num_dominated == individual.num_nodes]\n",
    "\n",
    "    if dominating_individuals:\n",
    "        best = max(dominating_individuals, key=lambda x: (x.fitness, -x.total_selected))\n",
    "    else:\n",
    "        best = max(population, key=lambda x: (x.fitness, -x.total_selected))\n",
    "\n",
    "    print(f\"Best individual after {max_iterations} iterations: {best}\")\n",
    "\n",
    "    return best.genetic_code, best.fitness"
   ],
   "id": "928ffcb3d66ec8f0",
   "outputs": [],
   "execution_count": 27
  },
  {
   "metadata": {
    "ExecuteTime": {
     "end_time": "2025-02-23T16:51:34.853642Z",
     "start_time": "2025-02-23T16:51:34.809245Z"
    }
   },
   "cell_type": "code",
   "source": [
    "if __name__ == '__main__':\n",
    "    g = {\n",
    "        1: [2, 5],\n",
    "        2: [1, 3, 5],\n",
    "        3: [2, 4, 6],\n",
    "        4: [3],\n",
    "        5: [1, 2, 6],\n",
    "        6: [3, 5]\n",
    "    }\n",
    "\n",
    "    best_code, best_fitness = ga(\n",
    "        graph=g,\n",
    "        population_size=50,\n",
    "        mutation_rate=0.1,\n",
    "        tournament_size=3,\n",
    "        max_iterations=100,\n",
    "        selection_method='tournament_selection',\n",
    "        elitism_size=2\n",
    "    )\n",
    "\n",
    "    nodes = sorted(g.keys())\n",
    "    print(\"Best genetic code (dominating set):\", best_code)\n",
    "\n",
    "    selected_vertices = [nodes[i] for i, bit in enumerate(best_code) if bit == 1]\n",
    "    print(\"Selected vertices:\", selected_vertices)\n",
    "    print(\"Fitness:\", best_fitness)"
   ],
   "id": "f0eacc1165ebcf8e",
   "outputs": [
    {
     "name": "stdout",
     "output_type": "stream",
     "text": [
      "Generation 1: Gen: 101000 | Fitness: 10 | Selected: 2\n",
      "Generation 2: Gen: 101000 | Fitness: 10 | Selected: 2\n",
      "Generation 3: Gen: 101000 | Fitness: 10 | Selected: 2\n",
      "Generation 4: Gen: 101000 | Fitness: 10 | Selected: 2\n",
      "Generation 5: Gen: 101000 | Fitness: 10 | Selected: 2\n",
      "Generation 6: Gen: 101000 | Fitness: 10 | Selected: 2\n",
      "Generation 7: Gen: 101000 | Fitness: 10 | Selected: 2\n",
      "Generation 8: Gen: 101000 | Fitness: 10 | Selected: 2\n",
      "Generation 9: Gen: 101000 | Fitness: 10 | Selected: 2\n",
      "Generation 10: Gen: 101000 | Fitness: 10 | Selected: 2\n",
      "Generation 11: Gen: 101000 | Fitness: 10 | Selected: 2\n",
      "Generation 12: Gen: 101000 | Fitness: 10 | Selected: 2\n",
      "Generation 13: Gen: 101000 | Fitness: 10 | Selected: 2\n",
      "Generation 14: Gen: 101000 | Fitness: 10 | Selected: 2\n",
      "Generation 15: Gen: 101000 | Fitness: 10 | Selected: 2\n",
      "Generation 16: Gen: 101000 | Fitness: 10 | Selected: 2\n",
      "Generation 17: Gen: 101000 | Fitness: 10 | Selected: 2\n",
      "Generation 18: Gen: 101000 | Fitness: 10 | Selected: 2\n",
      "Generation 19: Gen: 101000 | Fitness: 10 | Selected: 2\n",
      "Generation 20: Gen: 101000 | Fitness: 10 | Selected: 2\n",
      "Generation 21: Gen: 101000 | Fitness: 10 | Selected: 2\n",
      "Generation 22: Gen: 101000 | Fitness: 10 | Selected: 2\n",
      "Generation 23: Gen: 101000 | Fitness: 10 | Selected: 2\n",
      "Generation 24: Gen: 101000 | Fitness: 10 | Selected: 2\n",
      "Generation 25: Gen: 101000 | Fitness: 10 | Selected: 2\n",
      "Generation 26: Gen: 101000 | Fitness: 10 | Selected: 2\n",
      "Generation 27: Gen: 101000 | Fitness: 10 | Selected: 2\n",
      "Generation 28: Gen: 101000 | Fitness: 10 | Selected: 2\n",
      "Generation 29: Gen: 101000 | Fitness: 10 | Selected: 2\n",
      "Generation 30: Gen: 101000 | Fitness: 10 | Selected: 2\n",
      "Generation 31: Gen: 101000 | Fitness: 10 | Selected: 2\n",
      "Generation 32: Gen: 101000 | Fitness: 10 | Selected: 2\n",
      "Generation 33: Gen: 101000 | Fitness: 10 | Selected: 2\n",
      "Generation 34: Gen: 101000 | Fitness: 10 | Selected: 2\n",
      "Generation 35: Gen: 101000 | Fitness: 10 | Selected: 2\n",
      "Generation 36: Gen: 101000 | Fitness: 10 | Selected: 2\n",
      "Generation 37: Gen: 101000 | Fitness: 10 | Selected: 2\n",
      "Generation 38: Gen: 101000 | Fitness: 10 | Selected: 2\n",
      "Generation 39: Gen: 101000 | Fitness: 10 | Selected: 2\n",
      "Generation 40: Gen: 101000 | Fitness: 10 | Selected: 2\n",
      "Generation 41: Gen: 101000 | Fitness: 10 | Selected: 2\n",
      "Generation 42: Gen: 101000 | Fitness: 10 | Selected: 2\n",
      "Generation 43: Gen: 101000 | Fitness: 10 | Selected: 2\n",
      "Generation 44: Gen: 101000 | Fitness: 10 | Selected: 2\n",
      "Generation 45: Gen: 101000 | Fitness: 10 | Selected: 2\n",
      "Generation 46: Gen: 101000 | Fitness: 10 | Selected: 2\n",
      "Generation 47: Gen: 101000 | Fitness: 10 | Selected: 2\n",
      "Generation 48: Gen: 101000 | Fitness: 10 | Selected: 2\n",
      "Generation 49: Gen: 101000 | Fitness: 10 | Selected: 2\n",
      "Generation 50: Gen: 101000 | Fitness: 10 | Selected: 2\n",
      "Generation 51: Gen: 101000 | Fitness: 10 | Selected: 2\n",
      "Generation 52: Gen: 101000 | Fitness: 10 | Selected: 2\n",
      "Generation 53: Gen: 101000 | Fitness: 10 | Selected: 2\n",
      "Generation 54: Gen: 101000 | Fitness: 10 | Selected: 2\n",
      "Generation 55: Gen: 101000 | Fitness: 10 | Selected: 2\n",
      "Generation 56: Gen: 101000 | Fitness: 10 | Selected: 2\n",
      "Generation 57: Gen: 101000 | Fitness: 10 | Selected: 2\n",
      "Generation 58: Gen: 101000 | Fitness: 10 | Selected: 2\n",
      "Generation 59: Gen: 101000 | Fitness: 10 | Selected: 2\n",
      "Generation 60: Gen: 101000 | Fitness: 10 | Selected: 2\n",
      "Generation 61: Gen: 101000 | Fitness: 10 | Selected: 2\n",
      "Generation 62: Gen: 101000 | Fitness: 10 | Selected: 2\n",
      "Generation 63: Gen: 101000 | Fitness: 10 | Selected: 2\n",
      "Generation 64: Gen: 101000 | Fitness: 10 | Selected: 2\n",
      "Generation 65: Gen: 101000 | Fitness: 10 | Selected: 2\n",
      "Generation 66: Gen: 101000 | Fitness: 10 | Selected: 2\n",
      "Generation 67: Gen: 101000 | Fitness: 10 | Selected: 2\n",
      "Generation 68: Gen: 101000 | Fitness: 10 | Selected: 2\n",
      "Generation 69: Gen: 101000 | Fitness: 10 | Selected: 2\n",
      "Generation 70: Gen: 101000 | Fitness: 10 | Selected: 2\n",
      "Generation 71: Gen: 101000 | Fitness: 10 | Selected: 2\n",
      "Generation 72: Gen: 101000 | Fitness: 10 | Selected: 2\n",
      "Generation 73: Gen: 101000 | Fitness: 10 | Selected: 2\n",
      "Generation 74: Gen: 101000 | Fitness: 10 | Selected: 2\n",
      "Generation 75: Gen: 101000 | Fitness: 10 | Selected: 2\n",
      "Generation 76: Gen: 101000 | Fitness: 10 | Selected: 2\n",
      "Generation 77: Gen: 101000 | Fitness: 10 | Selected: 2\n",
      "Generation 78: Gen: 101000 | Fitness: 10 | Selected: 2\n",
      "Generation 79: Gen: 101000 | Fitness: 10 | Selected: 2\n",
      "Generation 80: Gen: 101000 | Fitness: 10 | Selected: 2\n",
      "Generation 81: Gen: 101000 | Fitness: 10 | Selected: 2\n",
      "Generation 82: Gen: 101000 | Fitness: 10 | Selected: 2\n",
      "Generation 83: Gen: 101000 | Fitness: 10 | Selected: 2\n",
      "Generation 84: Gen: 101000 | Fitness: 10 | Selected: 2\n",
      "Generation 85: Gen: 101000 | Fitness: 10 | Selected: 2\n",
      "Generation 86: Gen: 101000 | Fitness: 10 | Selected: 2\n",
      "Generation 87: Gen: 101000 | Fitness: 10 | Selected: 2\n",
      "Generation 88: Gen: 101000 | Fitness: 10 | Selected: 2\n",
      "Generation 89: Gen: 101000 | Fitness: 10 | Selected: 2\n",
      "Generation 90: Gen: 101000 | Fitness: 10 | Selected: 2\n",
      "Generation 91: Gen: 101000 | Fitness: 10 | Selected: 2\n",
      "Generation 92: Gen: 101000 | Fitness: 10 | Selected: 2\n",
      "Generation 93: Gen: 101000 | Fitness: 10 | Selected: 2\n",
      "Generation 94: Gen: 101000 | Fitness: 10 | Selected: 2\n",
      "Generation 95: Gen: 101000 | Fitness: 10 | Selected: 2\n",
      "Generation 96: Gen: 101000 | Fitness: 10 | Selected: 2\n",
      "Generation 97: Gen: 101000 | Fitness: 10 | Selected: 2\n",
      "Generation 98: Gen: 101000 | Fitness: 10 | Selected: 2\n",
      "Generation 99: Gen: 101000 | Fitness: 10 | Selected: 2\n",
      "Generation 100: Gen: 101000 | Fitness: 10 | Selected: 2\n",
      "Best individual after 100 iterations: Gen: 101000 | Fitness: 10 | Selected: 2\n",
      "Best genetic code (dominating set): [1, 0, 1, 0, 0, 0]\n",
      "Selected vertices: [1, 3]\n",
      "Fitness: 10\n"
     ]
    }
   ],
   "execution_count": 36
  },
  {
   "metadata": {
    "ExecuteTime": {
     "end_time": "2025-02-23T16:51:43.186308Z",
     "start_time": "2025-02-23T16:51:43.177968Z"
    }
   },
   "cell_type": "code",
   "source": "",
   "id": "e3fb315771163e04",
   "outputs": [],
   "execution_count": null
  },
  {
   "metadata": {
    "ExecuteTime": {
     "end_time": "2025-02-23T00:13:05.757906Z",
     "start_time": "2025-02-23T00:13:05.754289Z"
    }
   },
   "cell_type": "code",
   "source": "",
   "id": "c915c7dcf4376286",
<<<<<<< HEAD
=======
   "outputs": [
    {
     "name": "stdout",
     "output_type": "stream",
     "text": [
      "Best genetic code (dominating set): [0, 0, 0, 1, 0, 0, 0, 0, 1, 0, 1, 0, 1, 0, 1, 0, 0, 0, 0, 0, 0, 0, 0, 0, 1, 0, 1, 0, 1, 1, 0, 0]\n",
      "Selected vertices: [4, 9, 11, 13, 15, 25, 27, 29, 30]\n",
      "Fitness: 9\n"
     ]
    }
   ],
   "execution_count": 48
  },
  {
   "metadata": {
    "ExecuteTime": {
     "end_time": "2025-02-23T18:18:36.809289Z",
     "start_time": "2025-02-23T18:18:36.798241Z"
    }
   },
   "cell_type": "code",
   "source": [
    "import networkx as nx\n",
    "\n",
    "medium_graph_dict = {\n",
    "    1: [2, 27],\n",
    "    2: [1, 30, 7],\n",
    "    3: [30, 24, 25],\n",
    "    4: [5, 19],\n",
    "    5: [4, 8],\n",
    "    6: [31, 15, 16],\n",
    "    7: [2, 29, 17, 32],\n",
    "    8: [5, 9, 17, 19],\n",
    "    9: [8, 10],\n",
    "    10: [9, 17],\n",
    "    11: [12, 13, 24],\n",
    "    12: [11, 14, 26],\n",
    "    13: [11, 23, 28],\n",
    "    14: [12, 29, 18],\n",
    "    15: [6, 20, 21, 16],\n",
    "    16: [6, 15, 31, 32],\n",
    "    17: [7, 8, 10, 27],\n",
    "    18: [14, 29, 19],\n",
    "    19: [4, 8, 18],\n",
    "    20: [15, 21],\n",
    "    21: [15, 20, 22],\n",
    "    22: [21, 29, 26],\n",
    "    23: [13, 28, 24],\n",
    "    24: [3, 11, 23, 25],\n",
    "    25: [3, 24],\n",
    "    26: [12, 22, 29],\n",
    "    27: [1, 17],\n",
    "    28: [13, 23],\n",
    "    29: [7, 14, 18, 22, 26, 32],\n",
    "    30: [2, 3, 31, 32],\n",
    "    31: [6, 16, 30],\n",
    "    32: [7, 16, 29, 30]\n",
    "}\n",
    "\n",
    "node_set_to_check = [4, 9, 11, 13, 15, 25, 27, 29, 30]\n",
    "medium_graph_nx = nx.Graph(medium_graph_dict)\n",
    "\n",
    "is_dominating = nx.is_dominating_set(medium_graph_nx, node_set_to_check)\n",
    "\n",
    "if is_dominating:\n",
    "    print(f\"{node_set_to_check} is dominating set.\")"
   ],
   "id": "e0b65e4bb5aa971c",
   "outputs": [
    {
     "name": "stdout",
     "output_type": "stream",
     "text": [
      "Skup čvorova [4, 9, 11, 13, 15, 25, 27, 29, 30] jeste dominating set.\n"
     ]
    }
   ],
   "execution_count": 49
  },
  {
   "metadata": {
    "ExecuteTime": {
     "end_time": "2025-02-23T17:55:04.977189Z",
     "start_time": "2025-02-23T17:55:04.970725Z"
    }
   },
   "cell_type": "code",
   "source": "# Generation 185: Gen: 00010000101010100000000010101100 | Fitness: 55 | Selected: 9",
   "id": "9dd12b7c9c712d51",
>>>>>>> 8eb3e3f ([test] Add a 32-node graph and test the genetic algorithm with specific parameters)
   "outputs": [],
   "execution_count": null
  },
  {
   "metadata": {
    "ExecuteTime": {
     "end_time": "2025-02-22T23:20:23.339900Z",
     "start_time": "2025-02-22T23:20:23.336290Z"
    }
   },
   "cell_type": "code",
   "source": "",
   "id": "e0b65e4bb5aa971c",
   "outputs": [],
   "execution_count": null
  },
  {
   "metadata": {},
   "cell_type": "code",
   "outputs": [],
   "execution_count": null,
   "source": "",
   "id": "9dd12b7c9c712d51"
  }
 ],
 "metadata": {
  "kernelspec": {
   "display_name": "Python 3",
   "language": "python",
   "name": "python3"
  },
  "language_info": {
   "codemirror_mode": {
    "name": "ipython",
    "version": 2
   },
   "file_extension": ".py",
   "mimetype": "text/x-python",
   "name": "python",
   "nbconvert_exporter": "python",
   "pygments_lexer": "ipython2",
   "version": "2.7.6"
  }
 },
 "nbformat": 4,
 "nbformat_minor": 5
}
